{
  "nbformat": 4,
  "nbformat_minor": 5,
  "metadata": {
    "colab": {
      "name": "Skin Disease.ipynb",
      "provenance": [],
      "collapsed_sections": []
    },
    "kernelspec": {
      "display_name": "Python 3",
      "name": "python3"
    },
    "language_info": {
      "name": "python"
    }
  },
  "cells": [
    {
      "cell_type": "code",
      "metadata": {
        "colab": {
          "base_uri": "https://localhost:8080/"
        },
        "id": "poO7lUZGkKm2",
        "outputId": "9c5e1fd7-c2e1-499a-bef2-34525534c5b0"
      },
      "source": [
        "from google.colab import drive\n",
        "drive.mount('/content/gdrive')"
      ],
      "id": "poO7lUZGkKm2",
      "execution_count": 1,
      "outputs": [
        {
          "output_type": "stream",
          "text": [
            "Mounted at /content/gdrive\n"
          ],
          "name": "stdout"
        }
      ]
    },
    {
      "cell_type": "code",
      "metadata": {
        "id": "rotary-bracket"
      },
      "source": [
        "import matplotlib.pyplot as plt\n",
        "import numpy as np\n",
        "import pandas as pd\n",
        "import os\n",
        "from glob import glob\n",
        "import seaborn as sns\n",
        "from PIL import Image\n",
        "\n",
        "np.random.seed(42)\n",
        "from sklearn.metrics import confusion_matrix, classification_report\n",
        "\n",
        "import keras\n",
        "from keras.utils.np_utils import to_categorical\n",
        "from sklearn.model_selection import train_test_split"
      ],
      "id": "rotary-bracket",
      "execution_count": 2,
      "outputs": []
    },
    {
      "cell_type": "markdown",
      "metadata": {
        "id": "cw4B2K352S03"
      },
      "source": [
        "##Preparing Data"
      ],
      "id": "cw4B2K352S03"
    },
    {
      "cell_type": "code",
      "metadata": {
        "id": "desperate-bandwidth"
      },
      "source": [
        "dataset = pd.read_csv('/content/gdrive/MyDrive/A/dataset/ham10000/HAM10000_metadata.csv')"
      ],
      "id": "desperate-bandwidth",
      "execution_count": 3,
      "outputs": []
    },
    {
      "cell_type": "code",
      "metadata": {
        "colab": {
          "base_uri": "https://localhost:8080/",
          "height": 191
        },
        "id": "ongoing-contribution",
        "outputId": "78b726db-8c5c-46f7-f297-aa96f41d9637"
      },
      "source": [
        "name_dict = {\n",
        "    'nv': 'melanocytic nevi',\n",
        "    'mel': 'melanoma',\n",
        "    'bcc': 'basal cell carcinoma',\n",
        "    'akiec': 'Actinic keratoses and intraepithelial carcinoma',\n",
        "    'vasc': 'vascular lesions',\n",
        "    'bkl': 'benign keratosis-like',\n",
        "    'df': 'dermatofibroma'\n",
        "}\n",
        "dataset['name'] = dataset['dx'].map(name_dict.get)\n",
        "name_id_dict = {name: id for id, name in enumerate(name_dict.keys())}\n",
        "dataset['label'] = dataset['dx'].map(name_id_dict.get).astype(int)\n",
        "dataset.sample(5)"
      ],
      "id": "ongoing-contribution",
      "execution_count": 4,
      "outputs": [
        {
          "output_type": "execute_result",
          "data": {
            "text/html": [
              "<div>\n",
              "<style scoped>\n",
              "    .dataframe tbody tr th:only-of-type {\n",
              "        vertical-align: middle;\n",
              "    }\n",
              "\n",
              "    .dataframe tbody tr th {\n",
              "        vertical-align: top;\n",
              "    }\n",
              "\n",
              "    .dataframe thead th {\n",
              "        text-align: right;\n",
              "    }\n",
              "</style>\n",
              "<table border=\"1\" class=\"dataframe\">\n",
              "  <thead>\n",
              "    <tr style=\"text-align: right;\">\n",
              "      <th></th>\n",
              "      <th>lesion_id</th>\n",
              "      <th>image_id</th>\n",
              "      <th>dx</th>\n",
              "      <th>dx_type</th>\n",
              "      <th>age</th>\n",
              "      <th>sex</th>\n",
              "      <th>localization</th>\n",
              "      <th>name</th>\n",
              "      <th>label</th>\n",
              "    </tr>\n",
              "  </thead>\n",
              "  <tbody>\n",
              "    <tr>\n",
              "      <th>1617</th>\n",
              "      <td>HAM_0007180</td>\n",
              "      <td>ISIC_0033272</td>\n",
              "      <td>mel</td>\n",
              "      <td>histo</td>\n",
              "      <td>65.0</td>\n",
              "      <td>male</td>\n",
              "      <td>face</td>\n",
              "      <td>melanoma</td>\n",
              "      <td>1</td>\n",
              "    </tr>\n",
              "    <tr>\n",
              "      <th>8128</th>\n",
              "      <td>HAM_0007195</td>\n",
              "      <td>ISIC_0031923</td>\n",
              "      <td>nv</td>\n",
              "      <td>histo</td>\n",
              "      <td>40.0</td>\n",
              "      <td>female</td>\n",
              "      <td>lower extremity</td>\n",
              "      <td>melanocytic nevi</td>\n",
              "      <td>0</td>\n",
              "    </tr>\n",
              "    <tr>\n",
              "      <th>2168</th>\n",
              "      <td>HAM_0001835</td>\n",
              "      <td>ISIC_0026652</td>\n",
              "      <td>mel</td>\n",
              "      <td>histo</td>\n",
              "      <td>65.0</td>\n",
              "      <td>male</td>\n",
              "      <td>back</td>\n",
              "      <td>melanoma</td>\n",
              "      <td>1</td>\n",
              "    </tr>\n",
              "    <tr>\n",
              "      <th>1090</th>\n",
              "      <td>HAM_0000465</td>\n",
              "      <td>ISIC_0030583</td>\n",
              "      <td>bkl</td>\n",
              "      <td>consensus</td>\n",
              "      <td>35.0</td>\n",
              "      <td>female</td>\n",
              "      <td>trunk</td>\n",
              "      <td>benign keratosis-like</td>\n",
              "      <td>5</td>\n",
              "    </tr>\n",
              "    <tr>\n",
              "      <th>7754</th>\n",
              "      <td>HAM_0001720</td>\n",
              "      <td>ISIC_0034010</td>\n",
              "      <td>nv</td>\n",
              "      <td>histo</td>\n",
              "      <td>45.0</td>\n",
              "      <td>male</td>\n",
              "      <td>abdomen</td>\n",
              "      <td>melanocytic nevi</td>\n",
              "      <td>0</td>\n",
              "    </tr>\n",
              "  </tbody>\n",
              "</table>\n",
              "</div>"
            ],
            "text/plain": [
              "        lesion_id      image_id  ...                   name label\n",
              "1617  HAM_0007180  ISIC_0033272  ...               melanoma     1\n",
              "8128  HAM_0007195  ISIC_0031923  ...       melanocytic nevi     0\n",
              "2168  HAM_0001835  ISIC_0026652  ...               melanoma     1\n",
              "1090  HAM_0000465  ISIC_0030583  ...  benign keratosis-like     5\n",
              "7754  HAM_0001720  ISIC_0034010  ...       melanocytic nevi     0\n",
              "\n",
              "[5 rows x 9 columns]"
            ]
          },
          "metadata": {
            "tags": []
          },
          "execution_count": 4
        }
      ]
    },
    {
      "cell_type": "code",
      "metadata": {
        "colab": {
          "base_uri": "https://localhost:8080/"
        },
        "id": "rmSol744IiwH",
        "outputId": "88c646e6-a485-46c6-8fa4-ea28830e0524"
      },
      "source": [
        "print(dataset['label'].value_counts())"
      ],
      "id": "rmSol744IiwH",
      "execution_count": 5,
      "outputs": [
        {
          "output_type": "stream",
          "text": [
            "0    6705\n",
            "1    1113\n",
            "5    1099\n",
            "2     514\n",
            "3     327\n",
            "4     142\n",
            "6     115\n",
            "Name: label, dtype: int64\n"
          ],
          "name": "stdout"
        }
      ]
    },
    {
      "cell_type": "code",
      "metadata": {
        "colab": {
          "base_uri": "https://localhost:8080/"
        },
        "id": "adjusted-brass",
        "outputId": "c9b4d410-7354-468b-b21c-74d14ec8c54b"
      },
      "source": [
        "from sklearn.utils import resample\n",
        "\n",
        "data_0 = dataset[dataset['label'] == 0]\n",
        "data_1 = dataset[dataset['label'] == 1]\n",
        "data_2 = dataset[dataset['label'] == 2]\n",
        "data_3 = dataset[dataset['label'] == 3]\n",
        "data_4 = dataset[dataset['label'] == 4]\n",
        "data_5 = dataset[dataset['label'] == 5]\n",
        "data_6 = dataset[dataset['label'] == 6]\n",
        "\n",
        "n_samples=500 \n",
        "data_0_balanced = resample(data_0, replace=True, n_samples=n_samples, random_state=42) \n",
        "data_1_balanced = resample(data_1, replace=True, n_samples=n_samples, random_state=42) \n",
        "data_2_balanced = resample(data_2, replace=True, n_samples=n_samples, random_state=42)\n",
        "data_3_balanced = resample(data_3, replace=True, n_samples=n_samples, random_state=42)\n",
        "data_4_balanced = resample(data_4, replace=True, n_samples=n_samples, random_state=42)\n",
        "data_5_balanced = resample(data_5, replace=True, n_samples=n_samples, random_state=42)\n",
        "data_6_balanced = resample(data_6, replace=True, n_samples=n_samples, random_state=42)\n",
        "\n",
        "dataset_balanced = pd.concat([data_0_balanced, data_1_balanced, \n",
        "                              data_2_balanced, data_3_balanced, \n",
        "                              data_4_balanced, data_5_balanced, \n",
        "                              data_6_balanced])\n",
        "\n",
        "print(dataset_balanced['label'].value_counts())"
      ],
      "id": "adjusted-brass",
      "execution_count": 6,
      "outputs": [
        {
          "output_type": "stream",
          "text": [
            "5    500\n",
            "3    500\n",
            "1    500\n",
            "6    500\n",
            "4    500\n",
            "2    500\n",
            "0    500\n",
            "Name: label, dtype: int64\n"
          ],
          "name": "stdout"
        }
      ]
    },
    {
      "cell_type": "code",
      "metadata": {
        "id": "hazardous-extra"
      },
      "source": [
        "size=160\n",
        "image_path = {os.path.splitext(os.path.basename(x))[0]: x\n",
        "              for x in glob(os.path.join('/content/gdrive/MyDrive/A/dataset/ham10000/', '*', '*.jpg'))}\n",
        "\n",
        "\n",
        "dataset_balanced['path'] = dataset['image_id'].map(image_path.get)\n",
        "\n",
        "dataset_balanced['image'] = dataset_balanced['path'].map(lambda x: np.asarray(Image.open(x).resize((size, size))))"
      ],
      "id": "hazardous-extra",
      "execution_count": 7,
      "outputs": []
    },
    {
      "cell_type": "code",
      "metadata": {
        "id": "critical-surge"
      },
      "source": [
        "X = np.asarray(dataset_balanced['image'].tolist())\n",
        "X = X/255.  \n",
        "Y=dataset_balanced['label'] \n",
        "Y_cat = to_categorical(Y, num_classes=7) \n",
        "x_train, x_test, y_train, y_test = train_test_split(X, Y_cat, test_size=0.25, random_state=42)"
      ],
      "id": "critical-surge",
      "execution_count": 8,
      "outputs": []
    },
    {
      "cell_type": "markdown",
      "metadata": {
        "id": "3feVS2sW2Z0x"
      },
      "source": [
        "##Model"
      ],
      "id": "3feVS2sW2Z0x"
    },
    {
      "cell_type": "code",
      "metadata": {
        "colab": {
          "base_uri": "https://localhost:8080/"
        },
        "id": "QQGMrsfV5akt",
        "outputId": "0fc14f3d-cacd-4da9-d89a-07bb98f0faf6"
      },
      "source": [
        "import tensorflow\n",
        "from tensorflow.keras.models import Sequential\n",
        "from tensorflow.keras.optimizers import Adam\n",
        "from tensorflow.keras.metrics import categorical_crossentropy\n",
        "from tensorflow.keras.applications import MobileNetV2\n",
        "from tensorflow.keras.layers import Dense, Conv2D, MaxPooling2D, Flatten, Dropout\n",
        "size = 160\n",
        "training = MobileNetV2(include_top = False,\n",
        "                       input_shape = (size, size, 3))\n",
        "\n",
        "model = Sequential()\n",
        "model.add(training)\n",
        "model.add(Flatten())\n",
        "model.add(Dense(512, activation='relu'))\n",
        "model.add(Dropout(rate = 0.5))\n",
        "model.add(Dense(256, activation='relu'))\n",
        "model.add(Dense(128, activation='relu'))\n",
        "model.add(Dropout(rate = 0.5))\n",
        "model.add(Dense(64, activation='relu'))\n",
        "model.add(Dense(7, activation='softmax'))\n",
        "\n",
        "for layer in model.layers[0].layers:\n",
        "    layer.trainable = False\n",
        "\n",
        "model.summary()\n",
        "\n",
        "model.compile(Adam(lr=0.0001),\n",
        "              loss='categorical_crossentropy',\n",
        "              metrics=[\"acc\"])"
      ],
      "id": "QQGMrsfV5akt",
      "execution_count": 14,
      "outputs": [
        {
          "output_type": "stream",
          "text": [
            "Downloading data from https://storage.googleapis.com/tensorflow/keras-applications/mobilenet_v2/mobilenet_v2_weights_tf_dim_ordering_tf_kernels_1.0_160_no_top.h5\n",
            "9412608/9406464 [==============================] - 0s 0us/step\n",
            "Model: \"sequential\"\n",
            "_________________________________________________________________\n",
            "Layer (type)                 Output Shape              Param #   \n",
            "=================================================================\n",
            "mobilenetv2_1.00_160 (Functi (None, 5, 5, 1280)        2257984   \n",
            "_________________________________________________________________\n",
            "flatten (Flatten)            (None, 32000)             0         \n",
            "_________________________________________________________________\n",
            "dense (Dense)                (None, 512)               16384512  \n",
            "_________________________________________________________________\n",
            "dropout (Dropout)            (None, 512)               0         \n",
            "_________________________________________________________________\n",
            "dense_1 (Dense)              (None, 256)               131328    \n",
            "_________________________________________________________________\n",
            "dense_2 (Dense)              (None, 128)               32896     \n",
            "_________________________________________________________________\n",
            "dropout_1 (Dropout)          (None, 128)               0         \n",
            "_________________________________________________________________\n",
            "dense_3 (Dense)              (None, 64)                8256      \n",
            "_________________________________________________________________\n",
            "dense_4 (Dense)              (None, 7)                 455       \n",
            "=================================================================\n",
            "Total params: 18,815,431\n",
            "Trainable params: 16,557,447\n",
            "Non-trainable params: 2,257,984\n",
            "_________________________________________________________________\n"
          ],
          "name": "stdout"
        },
        {
          "output_type": "stream",
          "text": [
            "/usr/local/lib/python3.7/dist-packages/tensorflow/python/keras/optimizer_v2/optimizer_v2.py:375: UserWarning: The `lr` argument is deprecated, use `learning_rate` instead.\n",
            "  \"The `lr` argument is deprecated, use `learning_rate` instead.\")\n"
          ],
          "name": "stderr"
        }
      ]
    },
    {
      "cell_type": "code",
      "metadata": {
        "id": "TLDMvZx6Cg2F",
        "colab": {
          "base_uri": "https://localhost:8080/"
        },
        "outputId": "77851673-05e8-4ce5-880e-660bdcd5bad2"
      },
      "source": [
        "history = model.fit(x_train, y_train,\n",
        "                    validation_data=(x_test, y_test),\n",
        "                    epochs=25,\n",
        "                    verbose=1)"
      ],
      "id": "TLDMvZx6Cg2F",
      "execution_count": 15,
      "outputs": [
        {
          "output_type": "stream",
          "text": [
            "Epoch 1/25\n",
            "83/83 [==============================] - 55s 624ms/step - loss: 2.0738 - acc: 0.2408 - val_loss: 1.5583 - val_acc: 0.4400\n",
            "Epoch 2/25\n",
            "83/83 [==============================] - 52s 634ms/step - loss: 1.6902 - acc: 0.3356 - val_loss: 1.4361 - val_acc: 0.4949\n",
            "Epoch 3/25\n",
            "83/83 [==============================] - 53s 635ms/step - loss: 1.5948 - acc: 0.3901 - val_loss: 1.3311 - val_acc: 0.5497\n",
            "Epoch 4/25\n",
            "83/83 [==============================] - 53s 640ms/step - loss: 1.4502 - acc: 0.4446 - val_loss: 1.2138 - val_acc: 0.6023\n",
            "Epoch 5/25\n",
            "83/83 [==============================] - 53s 637ms/step - loss: 1.3620 - acc: 0.4781 - val_loss: 1.1821 - val_acc: 0.5897\n",
            "Epoch 6/25\n",
            "83/83 [==============================] - 53s 637ms/step - loss: 1.2456 - acc: 0.5310 - val_loss: 1.0725 - val_acc: 0.6411\n",
            "Epoch 7/25\n",
            "83/83 [==============================] - 53s 641ms/step - loss: 1.1694 - acc: 0.5570 - val_loss: 0.9977 - val_acc: 0.6766\n",
            "Epoch 8/25\n",
            "83/83 [==============================] - 53s 644ms/step - loss: 1.0553 - acc: 0.6198 - val_loss: 0.9324 - val_acc: 0.6949\n",
            "Epoch 9/25\n",
            "83/83 [==============================] - 53s 640ms/step - loss: 0.9675 - acc: 0.6495 - val_loss: 0.8707 - val_acc: 0.7074\n",
            "Epoch 10/25\n",
            "83/83 [==============================] - 53s 639ms/step - loss: 0.8827 - acc: 0.6850 - val_loss: 0.8313 - val_acc: 0.7234\n",
            "Epoch 11/25\n",
            "83/83 [==============================] - 53s 641ms/step - loss: 0.7861 - acc: 0.7116 - val_loss: 0.7527 - val_acc: 0.7611\n",
            "Epoch 12/25\n",
            "83/83 [==============================] - 52s 631ms/step - loss: 0.7120 - acc: 0.7490 - val_loss: 0.7111 - val_acc: 0.7646\n",
            "Epoch 13/25\n",
            "83/83 [==============================] - 52s 630ms/step - loss: 0.6674 - acc: 0.7608 - val_loss: 0.6764 - val_acc: 0.7691\n",
            "Epoch 14/25\n",
            "83/83 [==============================] - 53s 636ms/step - loss: 0.6225 - acc: 0.7886 - val_loss: 0.6976 - val_acc: 0.7726\n",
            "Epoch 15/25\n",
            "83/83 [==============================] - 53s 638ms/step - loss: 0.5838 - acc: 0.7821 - val_loss: 0.6725 - val_acc: 0.7863\n",
            "Epoch 16/25\n",
            "83/83 [==============================] - 53s 644ms/step - loss: 0.5319 - acc: 0.8145 - val_loss: 0.6704 - val_acc: 0.7897\n",
            "Epoch 17/25\n",
            "83/83 [==============================] - 53s 637ms/step - loss: 0.4544 - acc: 0.8442 - val_loss: 0.6442 - val_acc: 0.7966\n",
            "Epoch 18/25\n",
            "83/83 [==============================] - 52s 633ms/step - loss: 0.4419 - acc: 0.8518 - val_loss: 0.6462 - val_acc: 0.8046\n",
            "Epoch 19/25\n",
            "83/83 [==============================] - 53s 637ms/step - loss: 0.3884 - acc: 0.8613 - val_loss: 0.6781 - val_acc: 0.7851\n",
            "Epoch 20/25\n",
            "83/83 [==============================] - 53s 638ms/step - loss: 0.3701 - acc: 0.8735 - val_loss: 0.6640 - val_acc: 0.8080\n",
            "Epoch 21/25\n",
            "83/83 [==============================] - 53s 636ms/step - loss: 0.3071 - acc: 0.8895 - val_loss: 0.6604 - val_acc: 0.8000\n",
            "Epoch 22/25\n",
            "83/83 [==============================] - 52s 633ms/step - loss: 0.3218 - acc: 0.8891 - val_loss: 0.6843 - val_acc: 0.8091\n",
            "Epoch 23/25\n",
            "83/83 [==============================] - 52s 629ms/step - loss: 0.2653 - acc: 0.9116 - val_loss: 0.6941 - val_acc: 0.8126\n",
            "Epoch 24/25\n",
            "83/83 [==============================] - 53s 639ms/step - loss: 0.2504 - acc: 0.9147 - val_loss: 0.6911 - val_acc: 0.8069\n",
            "Epoch 25/25\n",
            "83/83 [==============================] - 53s 640ms/step - loss: 0.2294 - acc: 0.9238 - val_loss: 0.7079 - val_acc: 0.8160\n"
          ],
          "name": "stdout"
        }
      ]
    },
    {
      "cell_type": "code",
      "metadata": {
        "id": "distinct-apache",
        "colab": {
          "base_uri": "https://localhost:8080/"
        },
        "outputId": "3975bdc5-e732-47b9-8b89-0b4fccb5446a"
      },
      "source": [
        "score = model.evaluate(x_test, y_test)\n",
        "print('Test accuracy:', score[1])"
      ],
      "id": "distinct-apache",
      "execution_count": 16,
      "outputs": [
        {
          "output_type": "stream",
          "text": [
            "28/28 [==============================] - 13s 460ms/step - loss: 0.7079 - acc: 0.8160\n",
            "Test accuracy: 0.8159999847412109\n"
          ],
          "name": "stdout"
        }
      ]
    },
    {
      "cell_type": "code",
      "metadata": {
        "id": "combined-allah",
        "colab": {
          "base_uri": "https://localhost:8080/",
          "height": 572
        },
        "outputId": "8bdd3c16-31fc-48ba-e2de-9b748aff8b40"
      },
      "source": [
        "loss = history.history['loss']\n",
        "val_loss = history.history['val_loss']\n",
        "epochs = range(1, len(loss) + 1)\n",
        "plt.plot(epochs, loss, 'y', label='Training loss')\n",
        "plt.plot(epochs, val_loss, 'r', label='Validation loss')\n",
        "plt.title('Training and validation loss')\n",
        "plt.xlabel('Epochs')\n",
        "plt.ylabel('Loss')\n",
        "plt.legend()\n",
        "plt.show()\n",
        "\n",
        "\n",
        "acc = history.history['acc']\n",
        "val_acc = history.history['val_acc']\n",
        "plt.plot(epochs, acc, 'y', label='Training accuracy')\n",
        "plt.plot(epochs, val_acc, 'r', label='Validation accuracy')\n",
        "plt.title('Training and validation accuracy')\n",
        "plt.xlabel('Epochs')\n",
        "plt.ylabel('Accuracy')\n",
        "plt.legend()\n",
        "plt.show()\n"
      ],
      "id": "combined-allah",
      "execution_count": 17,
      "outputs": [
        {
          "output_type": "display_data",
          "data": {
            "image/png": "[encoded data removed]",
            "text/plain": [
              "<Figure size 432x288 with 1 Axes>"
            ]
          },
          "metadata": {
            "tags": [],
            "needs_background": "light"
          }
        },
        {
          "output_type": "display_data",
          "data": {
            "image/png": "[encoded data removed]",
            "text/plain": [
              "<Figure size 432x288 with 1 Axes>"
            ]
          },
          "metadata": {
            "tags": [],
            "needs_background": "light"
          }
        }
      ]
    },
    {
      "cell_type": "code",
      "metadata": {
        "id": "beneficial-dylan",
        "colab": {
          "base_uri": "https://localhost:8080/",
          "height": 601
        },
        "outputId": "2e343ff6-f645-4478-ab6b-3bf65d06be84"
      },
      "source": [
        "y_pred = model.predict(x_test)\n",
        "y_pred_classes = np.argmax(y_pred, axis = 1) \n",
        "y_true = np.argmax(y_test, axis = 1) \n",
        "\n",
        "cm = confusion_matrix(y_true, y_pred_classes)\n",
        "\n",
        "fig, ax = plt.subplots(figsize=(6,6))\n",
        "sns.set(font_scale=1.6)\n",
        "sns.heatmap(cm, annot=True, linewidths=.5, ax=ax)\n",
        "\n",
        "pd.DataFrame(confusion_matrix(y_true, y_pred_classes), columns = [\"prediction1\",\"prediction2\",\"prediction3\",\"prediction4\",\"prediction5\",\"prediction6\",\"prediction7\"], index = [\"True1\",\"True2\",\"True3\",\"True4\",\"True5\",\"True6\",\"True7\"])\n",
        "\n",
        "print(classification_report(y_true, y_pred_classes))"
      ],
      "id": "beneficial-dylan",
      "execution_count": 18,
      "outputs": [
        {
          "output_type": "stream",
          "text": [
            "              precision    recall  f1-score   support\n",
            "\n",
            "           0       0.85      0.71      0.78       149\n",
            "           1       0.62      0.78      0.69       128\n",
            "           2       0.86      0.81      0.83       120\n",
            "           3       0.77      0.87      0.82       128\n",
            "           4       0.93      0.99      0.96       112\n",
            "           5       0.73      0.58      0.64       113\n",
            "           6       0.98      0.99      0.99       125\n",
            "\n",
            "    accuracy                           0.82       875\n",
            "   macro avg       0.82      0.82      0.82       875\n",
            "weighted avg       0.82      0.82      0.81       875\n",
            "\n"
          ],
          "name": "stdout"
        },
        {
          "output_type": "display_data",
          "data": {
            "image/png": "[encoded data removed]",
            "text/plain": [
              "<Figure size 432x432 with 2 Axes>"
            ]
          },
          "metadata": {
            "tags": [],
            "needs_background": "light"
          }
        }
      ]
    },
    {
      "cell_type": "code",
      "metadata": {
        "colab": {
          "base_uri": "https://localhost:8080/"
        },
        "id": "FXjszmn3yg5K",
        "outputId": "b200eff1-93f0-4a89-e51c-109997c07ccc"
      },
      "source": [
        "%cd /content/gdrive/MyDrive/A"
      ],
      "id": "FXjszmn3yg5K",
      "execution_count": 19,
      "outputs": [
        {
          "output_type": "stream",
          "text": [
            "/content/gdrive/MyDrive/A\n"
          ],
          "name": "stdout"
        }
      ]
    },
    {
      "cell_type": "code",
      "metadata": {
        "colab": {
          "base_uri": "https://localhost:8080/"
        },
        "id": "cJkcH2pQx_df",
        "outputId": "75ca5f8f-80e6-4612-bcd8-54aa86fd2a04"
      },
      "source": [
        "model.save(\"model\")"
      ],
      "id": "cJkcH2pQx_df",
      "execution_count": 20,
      "outputs": [
        {
          "output_type": "stream",
          "text": [
            "WARNING:absl:Function `_wrapped_model` contains input name(s) mobilenetv2_1.00_160_input with unsupported characters which will be renamed to mobilenetv2_1_00_160_input in the SavedModel.\n",
            "/usr/local/lib/python3.7/dist-packages/tensorflow/python/keras/utils/generic_utils.py:497: CustomMaskWarning: Custom mask layers require a config and must override get_config. When loading, the custom mask layer must be passed to the custom_objects argument.\n",
            "  category=CustomMaskWarning)\n"
          ],
          "name": "stderr"
        },
        {
          "output_type": "stream",
          "text": [
            "INFO:tensorflow:Assets written to: model/assets\n"
          ],
          "name": "stdout"
        },
        {
          "output_type": "stream",
          "text": [
            "INFO:tensorflow:Assets written to: model/assets\n"
          ],
          "name": "stderr"
        }
      ]
    },
    {
      "cell_type": "code",
      "metadata": {
        "colab": {
          "base_uri": "https://localhost:8080/"
        },
        "id": "WbA_ub6Ex2nh",
        "outputId": "8077354a-3e71-45f6-ca89-0937c4ff3482"
      },
      "source": [
        "model.save(\"model.h5\")"
      ],
      "id": "WbA_ub6Ex2nh",
      "execution_count": 21,
      "outputs": [
        {
          "output_type": "stream",
          "text": [
            "/usr/local/lib/python3.7/dist-packages/tensorflow/python/keras/utils/generic_utils.py:497: CustomMaskWarning: Custom mask layers require a config and must override get_config. When loading, the custom mask layer must be passed to the custom_objects argument.\n",
            "  category=CustomMaskWarning)\n"
          ],
          "name": "stderr"
        }
      ]
    },
    {
      "cell_type": "code",
      "metadata": {
        "colab": {
          "base_uri": "https://localhost:8080/"
        },
        "id": "SH-_fTd04j7N",
        "outputId": "4389e1d6-fa58-4e18-e209-7c268f83e4d2"
      },
      "source": [
        "!pip install tensorflowjs"
      ],
      "id": "SH-_fTd04j7N",
      "execution_count": 23,
      "outputs": [
        {
          "output_type": "stream",
          "text": [
            "Collecting tensorflowjs\n",
            "\u001b[?25l  Downloading https://files.pythonhosted.org/packages/28/5a/2497b3ba86f5f1c2c7539e0bc5d957146a5ed71acfb6c66f644974af4309/tensorflowjs-3.6.0-py3-none-any.whl (63kB)\n",
            "\u001b[K     |████████████████████████████████| 71kB 5.0MB/s \n",
            "\u001b[?25hCollecting tensorflow-hub<0.10,>=0.7.0\n",
            "\u001b[?25l  Downloading https://files.pythonhosted.org/packages/ac/83/a7df82744a794107641dad1decaad017d82e25f0e1f761ac9204829eef96/tensorflow_hub-0.9.0-py2.py3-none-any.whl (103kB)\n",
            "\u001b[K     |████████████████████████████████| 112kB 10.5MB/s \n",
            "\u001b[?25hRequirement already satisfied: tensorflow<3,>=2.1.0 in /usr/local/lib/python3.7/dist-packages (from tensorflowjs) (2.5.0)\n",
            "Requirement already satisfied: six<2,>=1.12.0 in /usr/local/lib/python3.7/dist-packages (from tensorflowjs) (1.15.0)\n",
            "Requirement already satisfied: numpy>=1.12.0 in /usr/local/lib/python3.7/dist-packages (from tensorflow-hub<0.10,>=0.7.0->tensorflowjs) (1.19.5)\n",
            "Requirement already satisfied: protobuf>=3.8.0 in /usr/local/lib/python3.7/dist-packages (from tensorflow-hub<0.10,>=0.7.0->tensorflowjs) (3.12.4)\n",
            "Requirement already satisfied: h5py~=3.1.0 in /usr/local/lib/python3.7/dist-packages (from tensorflow<3,>=2.1.0->tensorflowjs) (3.1.0)\n",
            "Requirement already satisfied: tensorboard~=2.5 in /usr/local/lib/python3.7/dist-packages (from tensorflow<3,>=2.1.0->tensorflowjs) (2.5.0)\n",
            "Requirement already satisfied: tensorflow-estimator<2.6.0,>=2.5.0rc0 in /usr/local/lib/python3.7/dist-packages (from tensorflow<3,>=2.1.0->tensorflowjs) (2.5.0)\n",
            "Requirement already satisfied: keras-nightly~=2.5.0.dev in /usr/local/lib/python3.7/dist-packages (from tensorflow<3,>=2.1.0->tensorflowjs) (2.5.0.dev2021032900)\n",
            "Requirement already satisfied: opt-einsum~=3.3.0 in /usr/local/lib/python3.7/dist-packages (from tensorflow<3,>=2.1.0->tensorflowjs) (3.3.0)\n",
            "Requirement already satisfied: absl-py~=0.10 in /usr/local/lib/python3.7/dist-packages (from tensorflow<3,>=2.1.0->tensorflowjs) (0.12.0)\n",
            "Requirement already satisfied: termcolor~=1.1.0 in /usr/local/lib/python3.7/dist-packages (from tensorflow<3,>=2.1.0->tensorflowjs) (1.1.0)\n",
            "Requirement already satisfied: wrapt~=1.12.1 in /usr/local/lib/python3.7/dist-packages (from tensorflow<3,>=2.1.0->tensorflowjs) (1.12.1)\n",
            "Requirement already satisfied: gast==0.4.0 in /usr/local/lib/python3.7/dist-packages (from tensorflow<3,>=2.1.0->tensorflowjs) (0.4.0)\n",
            "Requirement already satisfied: google-pasta~=0.2 in /usr/local/lib/python3.7/dist-packages (from tensorflow<3,>=2.1.0->tensorflowjs) (0.2.0)\n",
            "Requirement already satisfied: keras-preprocessing~=1.1.2 in /usr/local/lib/python3.7/dist-packages (from tensorflow<3,>=2.1.0->tensorflowjs) (1.1.2)\n",
            "Requirement already satisfied: astunparse~=1.6.3 in /usr/local/lib/python3.7/dist-packages (from tensorflow<3,>=2.1.0->tensorflowjs) (1.6.3)\n",
            "Requirement already satisfied: wheel~=0.35 in /usr/local/lib/python3.7/dist-packages (from tensorflow<3,>=2.1.0->tensorflowjs) (0.36.2)\n",
            "Requirement already satisfied: grpcio~=1.34.0 in /usr/local/lib/python3.7/dist-packages (from tensorflow<3,>=2.1.0->tensorflowjs) (1.34.1)\n",
            "Requirement already satisfied: typing-extensions~=3.7.4 in /usr/local/lib/python3.7/dist-packages (from tensorflow<3,>=2.1.0->tensorflowjs) (3.7.4.3)\n",
            "Requirement already satisfied: flatbuffers~=1.12.0 in /usr/local/lib/python3.7/dist-packages (from tensorflow<3,>=2.1.0->tensorflowjs) (1.12)\n",
            "Requirement already satisfied: setuptools in /usr/local/lib/python3.7/dist-packages (from protobuf>=3.8.0->tensorflow-hub<0.10,>=0.7.0->tensorflowjs) (56.1.0)\n",
            "Requirement already satisfied: cached-property; python_version < \"3.8\" in /usr/local/lib/python3.7/dist-packages (from h5py~=3.1.0->tensorflow<3,>=2.1.0->tensorflowjs) (1.5.2)\n",
            "Requirement already satisfied: tensorboard-plugin-wit>=1.6.0 in /usr/local/lib/python3.7/dist-packages (from tensorboard~=2.5->tensorflow<3,>=2.1.0->tensorflowjs) (1.8.0)\n",
            "Requirement already satisfied: google-auth<2,>=1.6.3 in /usr/local/lib/python3.7/dist-packages (from tensorboard~=2.5->tensorflow<3,>=2.1.0->tensorflowjs) (1.30.0)\n",
            "Requirement already satisfied: werkzeug>=0.11.15 in /usr/local/lib/python3.7/dist-packages (from tensorboard~=2.5->tensorflow<3,>=2.1.0->tensorflowjs) (1.0.1)\n",
            "Requirement already satisfied: google-auth-oauthlib<0.5,>=0.4.1 in /usr/local/lib/python3.7/dist-packages (from tensorboard~=2.5->tensorflow<3,>=2.1.0->tensorflowjs) (0.4.4)\n",
            "Requirement already satisfied: requests<3,>=2.21.0 in /usr/local/lib/python3.7/dist-packages (from tensorboard~=2.5->tensorflow<3,>=2.1.0->tensorflowjs) (2.23.0)\n",
            "Requirement already satisfied: markdown>=2.6.8 in /usr/local/lib/python3.7/dist-packages (from tensorboard~=2.5->tensorflow<3,>=2.1.0->tensorflowjs) (3.3.4)\n",
            "Requirement already satisfied: tensorboard-data-server<0.7.0,>=0.6.0 in /usr/local/lib/python3.7/dist-packages (from tensorboard~=2.5->tensorflow<3,>=2.1.0->tensorflowjs) (0.6.1)\n",
            "Requirement already satisfied: cachetools<5.0,>=2.0.0 in /usr/local/lib/python3.7/dist-packages (from google-auth<2,>=1.6.3->tensorboard~=2.5->tensorflow<3,>=2.1.0->tensorflowjs) (4.2.2)\n",
            "Requirement already satisfied: rsa<5,>=3.1.4; python_version >= \"3.6\" in /usr/local/lib/python3.7/dist-packages (from google-auth<2,>=1.6.3->tensorboard~=2.5->tensorflow<3,>=2.1.0->tensorflowjs) (4.7.2)\n",
            "Requirement already satisfied: pyasn1-modules>=0.2.1 in /usr/local/lib/python3.7/dist-packages (from google-auth<2,>=1.6.3->tensorboard~=2.5->tensorflow<3,>=2.1.0->tensorflowjs) (0.2.8)\n",
            "Requirement already satisfied: requests-oauthlib>=0.7.0 in /usr/local/lib/python3.7/dist-packages (from google-auth-oauthlib<0.5,>=0.4.1->tensorboard~=2.5->tensorflow<3,>=2.1.0->tensorflowjs) (1.3.0)\n",
            "Requirement already satisfied: chardet<4,>=3.0.2 in /usr/local/lib/python3.7/dist-packages (from requests<3,>=2.21.0->tensorboard~=2.5->tensorflow<3,>=2.1.0->tensorflowjs) (3.0.4)\n",
            "Requirement already satisfied: idna<3,>=2.5 in /usr/local/lib/python3.7/dist-packages (from requests<3,>=2.21.0->tensorboard~=2.5->tensorflow<3,>=2.1.0->tensorflowjs) (2.10)\n",
            "Requirement already satisfied: urllib3!=1.25.0,!=1.25.1,<1.26,>=1.21.1 in /usr/local/lib/python3.7/dist-packages (from requests<3,>=2.21.0->tensorboard~=2.5->tensorflow<3,>=2.1.0->tensorflowjs) (1.24.3)\n",
            "Requirement already satisfied: certifi>=2017.4.17 in /usr/local/lib/python3.7/dist-packages (from requests<3,>=2.21.0->tensorboard~=2.5->tensorflow<3,>=2.1.0->tensorflowjs) (2020.12.5)\n",
            "Requirement already satisfied: importlib-metadata; python_version < \"3.8\" in /usr/local/lib/python3.7/dist-packages (from markdown>=2.6.8->tensorboard~=2.5->tensorflow<3,>=2.1.0->tensorflowjs) (4.0.1)\n",
            "Requirement already satisfied: pyasn1>=0.1.3 in /usr/local/lib/python3.7/dist-packages (from rsa<5,>=3.1.4; python_version >= \"3.6\"->google-auth<2,>=1.6.3->tensorboard~=2.5->tensorflow<3,>=2.1.0->tensorflowjs) (0.4.8)\n",
            "Requirement already satisfied: oauthlib>=3.0.0 in /usr/local/lib/python3.7/dist-packages (from requests-oauthlib>=0.7.0->google-auth-oauthlib<0.5,>=0.4.1->tensorboard~=2.5->tensorflow<3,>=2.1.0->tensorflowjs) (3.1.0)\n",
            "Requirement already satisfied: zipp>=0.5 in /usr/local/lib/python3.7/dist-packages (from importlib-metadata; python_version < \"3.8\"->markdown>=2.6.8->tensorboard~=2.5->tensorflow<3,>=2.1.0->tensorflowjs) (3.4.1)\n",
            "Installing collected packages: tensorflow-hub, tensorflowjs\n",
            "  Found existing installation: tensorflow-hub 0.12.0\n",
            "    Uninstalling tensorflow-hub-0.12.0:\n",
            "      Successfully uninstalled tensorflow-hub-0.12.0\n",
            "Successfully installed tensorflow-hub-0.9.0 tensorflowjs-3.6.0\n"
          ],
          "name": "stdout"
        }
      ]
    },
    {
      "cell_type": "code",
      "metadata": {
        "id": "McJsavYRn-kE",
        "colab": {
          "base_uri": "https://localhost:8080/"
        },
        "outputId": "1d9edbf4-d945-4921-b32e-ec084ae14686"
      },
      "source": [
        "import tensorflowjs as tfjs\n",
        "tfjs.converters.save_keras_model(model, 'model')"
      ],
      "id": "McJsavYRn-kE",
      "execution_count": 24,
      "outputs": [
        {
          "output_type": "stream",
          "text": [
            "/usr/local/lib/python3.7/dist-packages/tensorflow/python/keras/utils/generic_utils.py:497: CustomMaskWarning: Custom mask layers require a config and must override get_config. When loading, the custom mask layer must be passed to the custom_objects argument.\n",
            "  category=CustomMaskWarning)\n"
          ],
          "name": "stderr"
        }
      ]
    },
    {
      "cell_type": "code",
      "metadata": {
        "id": "DvEgYhFPFDkH",
        "colab": {
          "base_uri": "https://localhost:8080/"
        },
        "outputId": "e7a8e9e2-6c1e-4802-e84b-fa965f434abb"
      },
      "source": [
        "import tensorflow as tf\n",
        "# Convert the model.\n",
        "converter = tf.lite.TFLiteConverter.from_keras_model(model)\n",
        "tflite_model = converter.convert()\n",
        "\n",
        "# Save the model.\n",
        "with open('model.tflite', 'wb') as f:\n",
        "  f.write(tflite_model)"
      ],
      "id": "DvEgYhFPFDkH",
      "execution_count": 25,
      "outputs": [
        {
          "output_type": "stream",
          "text": [
            "WARNING:absl:Function `_wrapped_model` contains input name(s) mobilenetv2_1.00_160_input with unsupported characters which will be renamed to mobilenetv2_1_00_160_input in the SavedModel.\n",
            "/usr/local/lib/python3.7/dist-packages/tensorflow/python/keras/utils/generic_utils.py:497: CustomMaskWarning: Custom mask layers require a config and must override get_config. When loading, the custom mask layer must be passed to the custom_objects argument.\n",
            "  category=CustomMaskWarning)\n"
          ],
          "name": "stderr"
        },
        {
          "output_type": "stream",
          "text": [
            "INFO:tensorflow:Assets written to: /tmp/tmpzqagna8k/assets\n"
          ],
          "name": "stdout"
        },
        {
          "output_type": "stream",
          "text": [
            "INFO:tensorflow:Assets written to: /tmp/tmpzqagna8k/assets\n"
          ],
          "name": "stderr"
        }
      ]
    },
    {
      "cell_type": "code",
      "metadata": {
        "colab": {
          "base_uri": "https://localhost:8080/"
        },
        "id": "7iouyGCa1WLp",
        "outputId": "e110bf54-1769-441b-d7c6-3d762dc39261"
      },
      "source": [
        "from sklearn import datasets\n",
        "from sklearn.ensemble import RandomForestRegressor\n",
        "import pickle\n",
        "from sklearn.externals import joblib  \n",
        "\n",
        "boston_set = datasets.load_boston()\n",
        "\n",
        "model = RandomForestRegressor()\n",
        "model.fit(boston_set.data, boston_set.target)\n",
        "\n",
        "joblib.dump(model, 'model.joblib')\n",
        "\n",
        "with open('model.pkl','wb') as model_file:\n",
        "  pickle.dump(model, model_file)"
      ],
      "id": "7iouyGCa1WLp",
      "execution_count": 26,
      "outputs": [
        {
          "output_type": "stream",
          "text": [
            "/usr/local/lib/python3.7/dist-packages/sklearn/externals/joblib/__init__.py:15: FutureWarning: sklearn.externals.joblib is deprecated in 0.21 and will be removed in 0.23. Please import this functionality directly from joblib, which can be installed with: pip install joblib. If this warning is raised when loading pickled models, you may need to re-serialize those models with scikit-learn 0.21+.\n",
            "  warnings.warn(msg, category=FutureWarning)\n"
          ],
          "name": "stderr"
        }
      ]
    }
  ]
}